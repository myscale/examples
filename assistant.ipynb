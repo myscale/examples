{
 "cells": [
  {
   "cell_type": "markdown",
   "metadata": {},
   "source": [
    "# OpenAI Assistant API with MyScale\n",
    "\n",
    "Using MyScale as external knowledge base for assistant API"
   ]
  },
  {
   "cell_type": "code",
   "execution_count": null,
   "metadata": {},
   "outputs": [],
   "source": [
    "!python3 -m pip install --upgrade openai sentence-transformers"
   ]
  },
  {
   "cell_type": "markdown",
   "metadata": {},
   "source": [
    "## Load Embedding Model"
   ]
  },
  {
   "cell_type": "code",
   "execution_count": null,
   "metadata": {},
   "outputs": [],
   "source": [
    "from sentence_transformers import SentenceTransformer\n",
    "\n",
    "emb_model = SentenceTransformer('sentence-transformers/paraphrase-multilingual-mpnet-base-v2')"
   ]
  },
  {
   "cell_type": "markdown",
   "metadata": {},
   "source": [
    "## Connect to MyScale"
   ]
  },
  {
   "cell_type": "code",
   "execution_count": null,
   "metadata": {},
   "outputs": [],
   "source": [
    "    \n",
    "import clickhouse_connect\n",
    "\n",
    "db = clickhouse_connect.get_client(\n",
    "    host='msc-4a9e710a.us-east-1.aws.staging.myscale.cloud',\n",
    "    port=443,\n",
    "    username='chatdata',\n",
    "    password='myscale_rocks'\n",
    ")\n"
   ]
  },
  {
   "cell_type": "markdown",
   "metadata": {},
   "source": [
    "## Setting up tools"
   ]
  },
  {
   "cell_type": "code",
   "execution_count": null,
   "metadata": {},
   "outputs": [],
   "source": [
    "must_have_cols = ['text', 'title', 'views']\n",
    "database = 'wiki'\n",
    "table = 'Wikipedia'\n",
    "\n",
    "def get_related_pages(subject, where_str, limit):\n",
    "    q_emb = emb_model.encode(subject).tolist()\n",
    "    q_emb_str = \",\".join(map(str, q_emb))\n",
    "    if where_str:\n",
    "        where_str = f\"WHERE {where_str}\"\n",
    "    else:\n",
    "        where_str = \"\"\n",
    "\n",
    "    q_str = f\"\"\"\n",
    "        SELECT dist, {','.join(must_have_cols)}\n",
    "        FROM {database}.{table}\n",
    "        {where_str}\n",
    "        ORDER BY distance(emb, [{q_emb_str}]) \n",
    "            AS dist ASC\n",
    "        LIMIT {limit}\n",
    "        \"\"\"\n",
    "\n",
    "    docs = [r for r in db.query(q_str).named_results()]\n",
    "    return '\\n'.join([str(d) for d in docs])\n",
    "\n",
    "tools = {\n",
    "    \"get_wiki_pages\": lambda subject, where_str, limit: get_related_pages(subject, where_str, limit),\n",
    "}"
   ]
  },
  {
   "cell_type": "markdown",
   "metadata": {},
   "source": [
    "## Defining tools in Assistant API"
   ]
  },
  {
   "cell_type": "code",
   "execution_count": null,
   "metadata": {},
   "outputs": [],
   "source": [
    "from openai import OpenAI\n",
    "client = OpenAI()"
   ]
  },
  {
   "cell_type": "code",
   "execution_count": 43,
   "metadata": {},
   "outputs": [
    {
     "data": {
      "text/plain": [
       "Assistant(id='asst_A2Sht5eYD5rNsPsdVy6XOTaQ', created_at=1700720612, description=None, file_ids=[], instructions='You are a helpful assistant. Do your best to answer the questions. ', metadata={}, model='gpt-3.5-turbo', name='ChatData', object='assistant', tools=[ToolFunction(function=FunctionDefinition(name='get_wiki_pages', parameters={'type': 'object', 'properties': {'subject': {'type': 'string', 'description': 'a sentence or phrase describes the subject you want to query.'}, 'where_str': {'type': 'string', 'description': 'a sql-like where string to build filter.'}, 'limit': {'type': 'integer', 'description': 'default to 4'}}, 'required': ['subject', 'where_str', 'limit']}, description='Get some related wiki pages.\\nYou should use schema here to build WHERE string:\\n\\nCREATE TABLE Wikipedia (\\n    `id` String,\\n    `text` String, -- abstract of the wiki page. avoid using this column to do LIKE match\\n    `title` String, -- title of the paper\\n    `view` Float32,\\n    `url` String, -- URL to this wiki page\\nORDER BY id\\nYou should avoid using LIKE on long text columns.'), type='function')])"
      ]
     },
     "execution_count": 43,
     "metadata": {},
     "output_type": "execute_result"
    }
   ],
   "source": [
    "assistant = client.beta.assistants.create(\n",
    "    name=\"ChatData\",\n",
    "    instructions=(\n",
    "        \"You are a helpful assistant. Do your best to answer the questions. \"\n",
    "    ),\n",
    "    tools=[\n",
    "        {\n",
    "            \"type\": \"function\",\n",
    "            \"function\": {\n",
    "                \"name\": \"get_wiki_pages\",\n",
    "                \"description\": (\n",
    "                    \"Get some related wiki pages.\\n\"\n",
    "                    \"You should use schema here to build WHERE string:\\n\\n\"\n",
    "                    \"CREATE TABLE Wikipedia (\\n\"\n",
    "                    \"    `id` String,\\n\"\n",
    "                    \"    `text` String, -- abstract of the wiki page. avoid using this column to do LIKE match\\n\"\n",
    "                    \"    `title` String, -- title of the paper\\n\"\n",
    "                    \"    `view` Float32,\\n\"\n",
    "                    \"    `url` String, -- URL to this wiki page\\n\"\n",
    "                    \"ORDER BY id\\n\"\n",
    "                    \"You should avoid using LIKE on long text columns.\"\n",
    "                ),\n",
    "                \"parameters\": {\n",
    "                    \"type\": \"object\",\n",
    "                    \"properties\": {\n",
    "                        \"subject\": {\"type\": \"string\", \"description\": \"a sentence or phrase describes the subject you want to query.\"},\n",
    "                        \"where_str\": {\n",
    "                            \"type\": \"string\",\n",
    "                            \"description\": \"a sql-like where string to build filter.\",\n",
    "                        },\n",
    "                        \"limit\": {\"type\": \"integer\", \"description\": \"default to 4\"},\n",
    "                    },\n",
    "                    \"required\": [\"subject\", \"where_str\", \"limit\"],\n",
    "                },\n",
    "            },\n",
    "        }\n",
    "    ],\n",
    "    model=\"gpt-3.5-turbo\",\n",
    ")\n",
    "assistant"
   ]
  },
  {
   "cell_type": "markdown",
   "metadata": {},
   "source": [
    "## Create threads"
   ]
  },
  {
   "cell_type": "code",
   "execution_count": 44,
   "metadata": {},
   "outputs": [
    {
     "data": {
      "text/plain": [
       "Thread(id='thread_2UpAtcaDP8OxxngWxcvBseOn', created_at=1700720614, metadata={}, object='thread')"
      ]
     },
     "execution_count": 44,
     "metadata": {},
     "output_type": "execute_result"
    }
   ],
   "source": [
    "thread = client.beta.threads.create()\n",
    "thread"
   ]
  },
  {
   "cell_type": "markdown",
   "metadata": {},
   "source": [
    "## Add messages into the thread"
   ]
  },
  {
   "cell_type": "code",
   "execution_count": 45,
   "metadata": {},
   "outputs": [
    {
     "data": {
      "text/plain": [
       "SyncCursorPage[ThreadMessage](data=[ThreadMessage(id='msg_2wopNVCvQ4pXWWKYTkt1oTFK', assistant_id=None, content=[MessageContentText(text=Text(annotations=[], value='What is Ring in mathematics? Please query the related documents to answer this.'), type='text')], created_at=1700720616, file_ids=[], metadata={}, object='thread.message', role='user', run_id=None, thread_id='thread_2UpAtcaDP8OxxngWxcvBseOn')], object='list', first_id='msg_2wopNVCvQ4pXWWKYTkt1oTFK', last_id='msg_2wopNVCvQ4pXWWKYTkt1oTFK', has_more=False)"
      ]
     },
     "execution_count": 45,
     "metadata": {},
     "output_type": "execute_result"
    }
   ],
   "source": [
    "message = client.beta.threads.messages.create(\n",
    "    thread_id=thread.id,\n",
    "    role=\"user\",\n",
    "    content=\"What is Ring in mathematics? Please query the related documents to answer this.\",\n",
    ")\n",
    "client.beta.threads.messages.list(thread_id=thread.id)"
   ]
  },
  {
   "cell_type": "markdown",
   "metadata": {},
   "source": [
    "## Create run using the thread\n",
    "\n",
    "The messages attached into the thread will be used as context"
   ]
  },
  {
   "cell_type": "code",
   "execution_count": 46,
   "metadata": {},
   "outputs": [
    {
     "data": {
      "text/plain": [
       "Run(id='run_AZr9tRV9IUTvlsFoxFRbEn0h', assistant_id='asst_A2Sht5eYD5rNsPsdVy6XOTaQ', cancelled_at=None, completed_at=None, created_at=1700720618, expires_at=1700721218, failed_at=None, file_ids=[], instructions=\"You must use query tools to look up relevant information to every answer user's question.\", last_error=None, metadata={}, model='gpt-3.5-turbo', object='thread.run', required_action=None, started_at=None, status='queued', thread_id='thread_2UpAtcaDP8OxxngWxcvBseOn', tools=[ToolAssistantToolsFunction(function=FunctionDefinition(name='get_wiki_pages', parameters={'type': 'object', 'properties': {'subject': {'type': 'string', 'description': 'a sentence or phrase describes the subject you want to query.'}, 'where_str': {'type': 'string', 'description': 'a sql-like where string to build filter.'}, 'limit': {'type': 'integer', 'description': 'default to 4'}}, 'required': ['subject', 'where_str', 'limit']}, description='Get some related wiki pages.\\nYou should use schema here to build WHERE string:\\n\\nCREATE TABLE Wikipedia (\\n    `id` String,\\n    `text` String, -- abstract of the wiki page. avoid using this column to do LIKE match\\n    `title` String, -- title of the paper\\n    `view` Float32,\\n    `url` String, -- URL to this wiki page\\nORDER BY id\\nYou should avoid using LIKE on long text columns.'), type='function')])"
      ]
     },
     "execution_count": 46,
     "metadata": {},
     "output_type": "execute_result"
    }
   ],
   "source": [
    "run = client.beta.threads.runs.create(\n",
    "    thread_id=thread.id,\n",
    "    assistant_id=assistant.id,\n",
    "    instructions= \"You must use query tools to look up relevant information to every answer user's question.\",\n",
    ")\n",
    "run"
   ]
  },
  {
   "cell_type": "markdown",
   "metadata": {},
   "source": [
    "## Retrieve state of this run\n",
    "\n",
    "- If `completed`, then we just get the final message\n",
    "- If `action_required`, then we need to call the function and submit output to assistant api\n",
    "- Otherwise, just keep waiting."
   ]
  },
  {
   "cell_type": "code",
   "execution_count": 47,
   "metadata": {},
   "outputs": [
    {
     "name": "stdout",
     "output_type": "stream",
     "text": [
      "> Action Required <\n",
      "[RequiredActionFunctionToolCall(id='call_RyZQ200Ezc4PgbTJcCnxTGPa', function=Function(arguments='{\\n  \"subject\": \"Ring\",\\n  \"where_str\": \"\",\\n  \"limit\": 5\\n}', name='get_wiki_pages'), type='function')]\n"
     ]
    }
   ],
   "source": [
    "from time import sleep\n",
    "while True:\n",
    "    run = client.beta.threads.runs.retrieve(thread_id=thread.id, run_id=run.id)\n",
    "    if run.status == 'completed':\n",
    "        print(client.beta.threads.messages.list(thread_id=thread.id))\n",
    "        break\n",
    "    elif len(run.required_action.submit_tool_outputs.tool_calls) > 0:\n",
    "        print(\"> Action Required <\")\n",
    "        print(run.required_action.submit_tool_outputs.tool_calls)\n",
    "        break\n",
    "    sleep(1)"
   ]
  },
  {
   "cell_type": "markdown",
   "metadata": {},
   "source": [
    "## Calling the tool"
   ]
  },
  {
   "cell_type": "code",
   "execution_count": 48,
   "metadata": {},
   "outputs": [
    {
     "data": {
      "text/plain": [
       "[{'tool_call_id': 'call_RyZQ200Ezc4PgbTJcCnxTGPa',\n",
       "  'output': '{\\'dist\\': 0.2599601745605469, \\'text\\': \\'A ring is a set \"R\" equipped with two binary operations + (addition) and ⋅ (multiplication) satisfying the following three sets of axioms, called the ring axioms\\', \\'title\\': \\'Ring (mathematics)\\', \\'views\\': 1880.995849609375}\\n{\\'dist\\': 0.27385377883911133, \\'text\\': \\'In mathematics, rings are algebraic structures that generalize fields: multiplication need not be commutative and multiplicative inverses need not exist. In other words, a \"ring\" is a set equipped with two binary operations satisfying properties analogous to those of addition and multiplication of integers. Ring elements may be numbers such as integers or complex numbers, but they may also be non-numerical objects such as polynomials, square matrices, functions, and power series.\\', \\'title\\': \\'Ring (mathematics)\\', \\'views\\': 1880.995849609375}\\n{\\'dist\\': 0.2754005193710327, \\'text\\': \\'Rings (stylized as rings) is a 2005 American horror short film. It was initially released as an extra disc with a re-release of \"The Ring\" on DVD. The events in \"Rings\" lead up to the sequel \"The Ring Two\", on whose DVD \"Rings\" is also included as a bonus feature.\\', \\'title\\': \\'Rings (2005 film)\\', \\'views\\': 805.1778564453125}\\n{\\'dist\\': 0.2762576937675476, \\'text\\': \\'Formally, a \"ring\" is an abelian group whose operation is called \"addition\", with a second binary operation called \"multiplication\" that is associative, is distributive over the addition operation, and has a multiplicative identity element. (Some authors use the term \"\" with a missing i to refer to the more general structure that omits this last requirement; see .)\\', \\'title\\': \\'Ring (mathematics)\\', \\'views\\': 1880.995849609375}\\n{\\'dist\\': 0.2777373790740967, \\'text\\': \\'A boxing ring, often referred to simply as a ring or the squared circle, is the space in which a boxing match occurs. A modern ring consists of a square raised platform with a post at each corner. Four ropes are attached to the posts and pulled parallel under tension with turnbuckles to form the boundary of the competition area.\\', \\'title\\': \\'Boxing ring\\', \\'views\\': 731.193603515625}'}]"
      ]
     },
     "execution_count": 48,
     "metadata": {},
     "output_type": "execute_result"
    }
   ],
   "source": [
    "import json\n",
    "\n",
    "tool_calls = run.required_action.submit_tool_outputs.tool_calls\n",
    "outputs = []\n",
    "for call in tool_calls:\n",
    "    func = call.function\n",
    "    outputs.append({\"tool_call_id\": call.id, \"output\": tools[func.name](**json.loads(func.arguments))})\n",
    "outputs"
   ]
  },
  {
   "cell_type": "markdown",
   "metadata": {},
   "source": [
    "## Submitting the tool output"
   ]
  },
  {
   "cell_type": "code",
   "execution_count": 49,
   "metadata": {},
   "outputs": [],
   "source": [
    "run = client.beta.threads.runs.submit_tool_outputs(\n",
    "  thread_id=thread.id,\n",
    "  run_id=run.id,\n",
    "  tool_outputs=outputs\n",
    ")"
   ]
  },
  {
   "cell_type": "markdown",
   "metadata": {},
   "source": [
    "## Get the message from the thread"
   ]
  },
  {
   "cell_type": "code",
   "execution_count": 56,
   "metadata": {},
   "outputs": [
    {
     "name": "stdout",
     "output_type": "stream",
     "text": [
      "> generated texts <\n",
      "\n",
      " In mathematics, a ring is an algebraic structure that generalizes the concept of a field. A ring is a set equipped with two binary operations, addition and multiplication, that satisfy certain properties analogous to addition and multiplication of integers. The addition operation makes the set an abelian group, and the multiplication operation is associative, distributive over addition, and has a multiplicative identity element. Rings can include numerical objects such as integers, complex numbers, and matrices, as well as non-numerical objects such as polynomials, functions, and power series.\n",
      "\n",
      "Here are some related documents to learn more about rings:\n",
      "1. [Ring (mathematics)](https://en.wikipedia.org/wiki/Ring_(mathematics)) - This Wikipedia page provides a detailed overview of rings in mathematics.\n",
      "2. [Rings (2005 film)](https://en.wikipedia.org/wiki/Rings_(2005_film)) - This is a horror short film released as an extra disc with a re-release of \"The Ring\" on DVD. Please note that this is not related to the mathematical concept of a ring.\n",
      "3. [Boxing ring](https://en.wikipedia.org/wiki/Boxing_ring) - This page describes the space in which a boxing match occurs and is not related to the mathematical concept of a ring.\n",
      "\n",
      "Feel free to explore these resources for a deeper understanding of rings in mathematics.\n"
     ]
    }
   ],
   "source": [
    "from time import sleep\n",
    "\n",
    "while client.beta.threads.runs.retrieve(\n",
    "  thread_id=thread.id,\n",
    "  run_id=run.id\n",
    ").status != 'completed':\n",
    "    print(\"> waiting for results... <\")\n",
    "    sleep(1)\n",
    "messages = client.beta.threads.messages.list(thread_id=thread.id).data[0].content[0].text.value\n",
    "print(\"> generated texts <\\n\\n\", messages)"
   ]
  },
  {
   "cell_type": "markdown",
   "metadata": {},
   "source": [
    "## Delete the assistant\n",
    "\n",
    "You can also just delete this thread if you want to re-use this assistant. Just remember to save its `assistant_id`"
   ]
  },
  {
   "cell_type": "code",
   "execution_count": 57,
   "metadata": {},
   "outputs": [
    {
     "data": {
      "text/plain": [
       "AssistantDeleted(id='asst_A2Sht5eYD5rNsPsdVy6XOTaQ', deleted=True, object='assistant.deleted')"
      ]
     },
     "execution_count": 57,
     "metadata": {},
     "output_type": "execute_result"
    }
   ],
   "source": [
    "client.beta.assistants.delete(assistant_id=assistant.id)"
   ]
  },
  {
   "cell_type": "code",
   "execution_count": null,
   "metadata": {},
   "outputs": [],
   "source": []
  }
 ],
 "metadata": {
  "kernelspec": {
   "display_name": "base",
   "language": "python",
   "name": "python3"
  },
  "language_info": {
   "codemirror_mode": {
    "name": "ipython",
    "version": 3
   },
   "file_extension": ".py",
   "mimetype": "text/x-python",
   "name": "python",
   "nbconvert_exporter": "python",
   "pygments_lexer": "ipython3",
   "version": "3.8.8"
  },
  "orig_nbformat": 4
 },
 "nbformat": 4,
 "nbformat_minor": 2
}
