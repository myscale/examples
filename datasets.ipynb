{
 "cells": [
  {
   "cell_type": "markdown",
   "id": "8fd1ea74",
   "metadata": {},
   "source": [
    "# Image Search Helper"
   ]
  },
  {
   "cell_type": "markdown",
   "id": "b32b8844",
   "metadata": {},
   "source": [
    "## Environment Setup"
   ]
  },
  {
   "cell_type": "code",
   "execution_count": 1,
   "id": "f7090242",
   "metadata": {},
   "outputs": [
    {
     "name": "stdout",
     "output_type": "stream",
     "text": [
      "Requirement already satisfied: requests in /Users/qingdizhang/opt/anaconda3/lib/python3.9/site-packages (2.28.1)\n",
      "Requirement already satisfied: transformers in /Users/qingdizhang/opt/anaconda3/lib/python3.9/site-packages (4.26.1)\n",
      "Requirement already satisfied: torch in /Users/qingdizhang/opt/anaconda3/lib/python3.9/site-packages (1.13.1)\n",
      "Requirement already satisfied: tqdm in /Users/qingdizhang/opt/anaconda3/lib/python3.9/site-packages (4.64.1)\n",
      "Requirement already satisfied: certifi>=2017.4.17 in /Users/qingdizhang/opt/anaconda3/lib/python3.9/site-packages (from requests) (2022.12.7)\n",
      "Requirement already satisfied: urllib3<1.27,>=1.21.1 in /Users/qingdizhang/opt/anaconda3/lib/python3.9/site-packages (from requests) (1.26.14)\n",
      "Requirement already satisfied: charset-normalizer<3,>=2 in /Users/qingdizhang/opt/anaconda3/lib/python3.9/site-packages (from requests) (2.0.4)\n",
      "Requirement already satisfied: idna<4,>=2.5 in /Users/qingdizhang/opt/anaconda3/lib/python3.9/site-packages (from requests) (3.4)\n",
      "Requirement already satisfied: regex!=2019.12.17 in /Users/qingdizhang/opt/anaconda3/lib/python3.9/site-packages (from transformers) (2022.7.9)\n",
      "Requirement already satisfied: huggingface-hub<1.0,>=0.11.0 in /Users/qingdizhang/opt/anaconda3/lib/python3.9/site-packages (from transformers) (0.12.1)\n",
      "Requirement already satisfied: pyyaml>=5.1 in /Users/qingdizhang/opt/anaconda3/lib/python3.9/site-packages (from transformers) (6.0)\n",
      "Requirement already satisfied: tokenizers!=0.11.3,<0.14,>=0.11.1 in /Users/qingdizhang/opt/anaconda3/lib/python3.9/site-packages (from transformers) (0.13.2)\n",
      "Requirement already satisfied: filelock in /Users/qingdizhang/opt/anaconda3/lib/python3.9/site-packages (from transformers) (3.9.0)\n",
      "Requirement already satisfied: numpy>=1.17 in /Users/qingdizhang/opt/anaconda3/lib/python3.9/site-packages (from transformers) (1.23.5)\n",
      "Requirement already satisfied: packaging>=20.0 in /Users/qingdizhang/opt/anaconda3/lib/python3.9/site-packages (from transformers) (22.0)\n",
      "Requirement already satisfied: typing-extensions in /Users/qingdizhang/opt/anaconda3/lib/python3.9/site-packages (from torch) (4.4.0)\n"
     ]
    }
   ],
   "source": [
    "!pip install requests transformers torch tqdm"
   ]
  },
  {
   "cell_type": "markdown",
   "id": "5ae12283",
   "metadata": {},
   "source": [
    "## Download Data"
   ]
  },
  {
   "cell_type": "markdown",
   "id": "549e04a6",
   "metadata": {},
   "source": [
    "Download the dataset using the URL provided in the [unsplash-25K](https://huggingface.co/datasets/jamescalam/unsplash-25k-photos) dataset page."
   ]
  },
  {
   "cell_type": "code",
   "execution_count": 2,
   "id": "35c56776",
   "metadata": {},
   "outputs": [
    {
     "name": "stdout",
     "output_type": "stream",
     "text": [
      "--2023-02-19 16:47:19--  https://unsplash-datasets.s3.amazonaws.com/lite/latest/unsplash-research-dataset-lite-latest.zip\n",
      "Resolving unsplash-datasets.s3.amazonaws.com (unsplash-datasets.s3.amazonaws.com)... 52.216.37.17, 3.5.11.188, 54.231.231.1, ...\n",
      "Connecting to unsplash-datasets.s3.amazonaws.com (unsplash-datasets.s3.amazonaws.com)|52.216.37.17|:443... connected.\n",
      "HTTP request sent, awaiting response... 200 OK\n",
      "Length: 632351052 (603M) [application/zip]\n",
      "Saving to: 'unsplash-research-dataset-lite-latest.zip'\n",
      "\n",
      "unsplash-research-d 100%[===================>] 603.06M  9.04MB/s    in 2m 19s  \n",
      "\n",
      "2023-02-19 16:49:39 (4.35 MB/s) - 'unsplash-research-dataset-lite-latest.zip' saved [632351052/632351052]\n",
      "\n"
     ]
    }
   ],
   "source": [
    "!wget https://unsplash-datasets.s3.amazonaws.com/lite/latest/unsplash-research-dataset-lite-latest.zip"
   ]
  },
  {
   "cell_type": "code",
   "execution_count": 3,
   "id": "353603e4",
   "metadata": {},
   "outputs": [
    {
     "name": "stdout",
     "output_type": "stream",
     "text": [
      "Archive:  unsplash-research-dataset-lite-latest.zip\n",
      "  inflating: tmp/collections.tsv000  \n",
      "  inflating: tmp/__MACOSX/._collections.tsv000  \n",
      "  inflating: tmp/colors.tsv000       \n",
      "  inflating: tmp/__MACOSX/._colors.tsv000  \n",
      "  inflating: tmp/conversions.tsv000  \n",
      "  inflating: tmp/__MACOSX/._conversions.tsv000  \n",
      "  inflating: tmp/DOCS.md             \n",
      "  inflating: tmp/keywords.tsv000     \n",
      "  inflating: tmp/__MACOSX/._keywords.tsv000  \n",
      "  inflating: tmp/photos.tsv000       \n",
      "  inflating: tmp/__MACOSX/._photos.tsv000  \n",
      "  inflating: tmp/README.md           \n",
      "  inflating: tmp/TERMS.md            \n"
     ]
    }
   ],
   "source": [
    "# unzip the downloaded files into a temporary directory\n",
    "\n",
    "!unzip unsplash-research-dataset-lite-latest.zip -d tmp"
   ]
  },
  {
   "cell_type": "markdown",
   "id": "905cbd01",
   "metadata": {},
   "source": [
    "## Read Data"
   ]
  },
  {
   "cell_type": "code",
   "execution_count": 4,
   "id": "2aef4b33",
   "metadata": {},
   "outputs": [],
   "source": [
    "import numpy as np\n",
    "import pandas as pd\n",
    "import glob\n",
    "\n",
    "documents = ['photos', 'conversions']\n",
    "datasets = {}\n",
    "\n",
    "for doc in documents:\n",
    "    files = glob.glob(\"tmp/\" + doc + \".tsv*\")\n",
    "    subsets = []\n",
    "    for filename in files:\n",
    "        df = pd.read_csv(filename, sep='\\t', header=0)\n",
    "        subsets.append(df)\n",
    "    datasets[doc] = pd.concat(subsets, axis=0, ignore_index=True)"
   ]
  },
  {
   "cell_type": "code",
   "execution_count": 5,
   "id": "1ca766b8",
   "metadata": {},
   "outputs": [
    {
     "name": "stdout",
     "output_type": "stream",
     "text": [
      "photos:  25000\n",
      "conversions:  12166088\n"
     ]
    }
   ],
   "source": [
    "df_photos = datasets['photos']\n",
    "df_conversions = datasets['conversions']\n",
    "\n",
    "# the dataset has 25K photos and all conversion history\n",
    "print(\"photos: \", len(df_photos))\n",
    "print(\"conversions: \", len(df_conversions))"
   ]
  },
  {
   "cell_type": "code",
   "execution_count": 6,
   "id": "05ba9ce5",
   "metadata": {},
   "outputs": [
    {
     "data": {
      "text/html": [
       "<div>\n",
       "<style scoped>\n",
       "    .dataframe tbody tr th:only-of-type {\n",
       "        vertical-align: middle;\n",
       "    }\n",
       "\n",
       "    .dataframe tbody tr th {\n",
       "        vertical-align: top;\n",
       "    }\n",
       "\n",
       "    .dataframe thead th {\n",
       "        text-align: right;\n",
       "    }\n",
       "</style>\n",
       "<table border=\"1\" class=\"dataframe\">\n",
       "  <thead>\n",
       "    <tr style=\"text-align: right;\">\n",
       "      <th></th>\n",
       "      <th>photo_id</th>\n",
       "      <th>photo_url</th>\n",
       "      <th>photo_image_url</th>\n",
       "      <th>photo_submitted_at</th>\n",
       "      <th>photo_featured</th>\n",
       "      <th>photo_width</th>\n",
       "      <th>photo_height</th>\n",
       "      <th>photo_aspect_ratio</th>\n",
       "      <th>photo_description</th>\n",
       "      <th>photographer_username</th>\n",
       "      <th>...</th>\n",
       "      <th>photo_location_country</th>\n",
       "      <th>photo_location_city</th>\n",
       "      <th>stats_views</th>\n",
       "      <th>stats_downloads</th>\n",
       "      <th>ai_description</th>\n",
       "      <th>ai_primary_landmark_name</th>\n",
       "      <th>ai_primary_landmark_latitude</th>\n",
       "      <th>ai_primary_landmark_longitude</th>\n",
       "      <th>ai_primary_landmark_confidence</th>\n",
       "      <th>blur_hash</th>\n",
       "    </tr>\n",
       "  </thead>\n",
       "  <tbody>\n",
       "    <tr>\n",
       "      <th>0</th>\n",
       "      <td>XMyPniM9LF0</td>\n",
       "      <td>https://unsplash.com/photos/XMyPniM9LF0</td>\n",
       "      <td>https://images.unsplash.com/uploads/1411949294...</td>\n",
       "      <td>2014-09-29 00:08:38.594364</td>\n",
       "      <td>t</td>\n",
       "      <td>4272</td>\n",
       "      <td>2848</td>\n",
       "      <td>1.50</td>\n",
       "      <td>Woman exploring a forest</td>\n",
       "      <td>michellespencer77</td>\n",
       "      <td>...</td>\n",
       "      <td>NaN</td>\n",
       "      <td>NaN</td>\n",
       "      <td>2375421</td>\n",
       "      <td>6967</td>\n",
       "      <td>woman walking in the middle of forest</td>\n",
       "      <td>NaN</td>\n",
       "      <td>NaN</td>\n",
       "      <td>NaN</td>\n",
       "      <td>NaN</td>\n",
       "      <td>L56bVcRRIWMh.gVunlS4SMbsRRxr</td>\n",
       "    </tr>\n",
       "    <tr>\n",
       "      <th>1</th>\n",
       "      <td>rDLBArZUl1c</td>\n",
       "      <td>https://unsplash.com/photos/rDLBArZUl1c</td>\n",
       "      <td>https://images.unsplash.com/photo-141633941111...</td>\n",
       "      <td>2014-11-18 19:36:57.08945</td>\n",
       "      <td>t</td>\n",
       "      <td>3000</td>\n",
       "      <td>4000</td>\n",
       "      <td>0.75</td>\n",
       "      <td>Succulents in a terrarium</td>\n",
       "      <td>ugmonk</td>\n",
       "      <td>...</td>\n",
       "      <td>NaN</td>\n",
       "      <td>NaN</td>\n",
       "      <td>13784815</td>\n",
       "      <td>82141</td>\n",
       "      <td>succulent plants in clear glass terrarium</td>\n",
       "      <td>NaN</td>\n",
       "      <td>NaN</td>\n",
       "      <td>NaN</td>\n",
       "      <td>NaN</td>\n",
       "      <td>LvI$4txu%2s:_4t6WUj]xat7RPoe</td>\n",
       "    </tr>\n",
       "    <tr>\n",
       "      <th>2</th>\n",
       "      <td>cNDGZ2sQ3Bo</td>\n",
       "      <td>https://unsplash.com/photos/cNDGZ2sQ3Bo</td>\n",
       "      <td>https://images.unsplash.com/photo-142014251503...</td>\n",
       "      <td>2015-01-01 20:02:02.097036</td>\n",
       "      <td>t</td>\n",
       "      <td>2564</td>\n",
       "      <td>1710</td>\n",
       "      <td>1.50</td>\n",
       "      <td>Rural winter mountainside</td>\n",
       "      <td>johnprice</td>\n",
       "      <td>...</td>\n",
       "      <td>NaN</td>\n",
       "      <td>NaN</td>\n",
       "      <td>1302461</td>\n",
       "      <td>3428</td>\n",
       "      <td>rocky mountain under gray sky at daytime</td>\n",
       "      <td>NaN</td>\n",
       "      <td>NaN</td>\n",
       "      <td>NaN</td>\n",
       "      <td>NaN</td>\n",
       "      <td>LhMj%NxvM{t7_4t7aeoM%2M{ozj[</td>\n",
       "    </tr>\n",
       "    <tr>\n",
       "      <th>3</th>\n",
       "      <td>iuZ_D1eoq9k</td>\n",
       "      <td>https://unsplash.com/photos/iuZ_D1eoq9k</td>\n",
       "      <td>https://images.unsplash.com/photo-141487280988...</td>\n",
       "      <td>2014-11-01 20:15:13.410073</td>\n",
       "      <td>t</td>\n",
       "      <td>2912</td>\n",
       "      <td>4368</td>\n",
       "      <td>0.67</td>\n",
       "      <td>Poppy seeds and flowers</td>\n",
       "      <td>krisatomic</td>\n",
       "      <td>...</td>\n",
       "      <td>NaN</td>\n",
       "      <td>NaN</td>\n",
       "      <td>2890238</td>\n",
       "      <td>33704</td>\n",
       "      <td>red common poppy flower selective focus phography</td>\n",
       "      <td>NaN</td>\n",
       "      <td>NaN</td>\n",
       "      <td>NaN</td>\n",
       "      <td>NaN</td>\n",
       "      <td>LSC7DirZAsX7}Br@GEWWmnoLWCnj</td>\n",
       "    </tr>\n",
       "    <tr>\n",
       "      <th>4</th>\n",
       "      <td>BeD3vjQ8SI0</td>\n",
       "      <td>https://unsplash.com/photos/BeD3vjQ8SI0</td>\n",
       "      <td>https://images.unsplash.com/photo-141700759404...</td>\n",
       "      <td>2014-11-26 13:13:50.134383</td>\n",
       "      <td>t</td>\n",
       "      <td>4896</td>\n",
       "      <td>3264</td>\n",
       "      <td>1.50</td>\n",
       "      <td>Silhouette near dark trees</td>\n",
       "      <td>jonaseriksson</td>\n",
       "      <td>...</td>\n",
       "      <td>NaN</td>\n",
       "      <td>NaN</td>\n",
       "      <td>8704860</td>\n",
       "      <td>49662</td>\n",
       "      <td>trees during night time</td>\n",
       "      <td>NaN</td>\n",
       "      <td>NaN</td>\n",
       "      <td>NaN</td>\n",
       "      <td>NaN</td>\n",
       "      <td>L25|_:V@0hxtI=W;odae0ht6=^NG</td>\n",
       "    </tr>\n",
       "  </tbody>\n",
       "</table>\n",
       "<p>5 rows × 31 columns</p>\n",
       "</div>"
      ],
      "text/plain": [
       "      photo_id                                photo_url  \\\n",
       "0  XMyPniM9LF0  https://unsplash.com/photos/XMyPniM9LF0   \n",
       "1  rDLBArZUl1c  https://unsplash.com/photos/rDLBArZUl1c   \n",
       "2  cNDGZ2sQ3Bo  https://unsplash.com/photos/cNDGZ2sQ3Bo   \n",
       "3  iuZ_D1eoq9k  https://unsplash.com/photos/iuZ_D1eoq9k   \n",
       "4  BeD3vjQ8SI0  https://unsplash.com/photos/BeD3vjQ8SI0   \n",
       "\n",
       "                                     photo_image_url  \\\n",
       "0  https://images.unsplash.com/uploads/1411949294...   \n",
       "1  https://images.unsplash.com/photo-141633941111...   \n",
       "2  https://images.unsplash.com/photo-142014251503...   \n",
       "3  https://images.unsplash.com/photo-141487280988...   \n",
       "4  https://images.unsplash.com/photo-141700759404...   \n",
       "\n",
       "           photo_submitted_at photo_featured  photo_width  photo_height  \\\n",
       "0  2014-09-29 00:08:38.594364              t         4272          2848   \n",
       "1   2014-11-18 19:36:57.08945              t         3000          4000   \n",
       "2  2015-01-01 20:02:02.097036              t         2564          1710   \n",
       "3  2014-11-01 20:15:13.410073              t         2912          4368   \n",
       "4  2014-11-26 13:13:50.134383              t         4896          3264   \n",
       "\n",
       "   photo_aspect_ratio           photo_description photographer_username  ...  \\\n",
       "0                1.50    Woman exploring a forest     michellespencer77  ...   \n",
       "1                0.75   Succulents in a terrarium                ugmonk  ...   \n",
       "2                1.50   Rural winter mountainside             johnprice  ...   \n",
       "3                0.67     Poppy seeds and flowers            krisatomic  ...   \n",
       "4                1.50  Silhouette near dark trees         jonaseriksson  ...   \n",
       "\n",
       "  photo_location_country photo_location_city stats_views stats_downloads  \\\n",
       "0                    NaN                 NaN     2375421            6967   \n",
       "1                    NaN                 NaN    13784815           82141   \n",
       "2                    NaN                 NaN     1302461            3428   \n",
       "3                    NaN                 NaN     2890238           33704   \n",
       "4                    NaN                 NaN     8704860           49662   \n",
       "\n",
       "                                      ai_description ai_primary_landmark_name  \\\n",
       "0              woman walking in the middle of forest                      NaN   \n",
       "1          succulent plants in clear glass terrarium                      NaN   \n",
       "2           rocky mountain under gray sky at daytime                      NaN   \n",
       "3  red common poppy flower selective focus phography                      NaN   \n",
       "4                            trees during night time                      NaN   \n",
       "\n",
       "  ai_primary_landmark_latitude ai_primary_landmark_longitude  \\\n",
       "0                          NaN                           NaN   \n",
       "1                          NaN                           NaN   \n",
       "2                          NaN                           NaN   \n",
       "3                          NaN                           NaN   \n",
       "4                          NaN                           NaN   \n",
       "\n",
       "  ai_primary_landmark_confidence                     blur_hash  \n",
       "0                            NaN  L56bVcRRIWMh.gVunlS4SMbsRRxr  \n",
       "1                            NaN  LvI$4txu%2s:_4t6WUj]xat7RPoe  \n",
       "2                            NaN  LhMj%NxvM{t7_4t7aeoM%2M{ozj[  \n",
       "3                            NaN  LSC7DirZAsX7}Br@GEWWmnoLWCnj  \n",
       "4                            NaN  L25|_:V@0hxtI=W;odae0ht6=^NG  \n",
       "\n",
       "[5 rows x 31 columns]"
      ]
     },
     "execution_count": 6,
     "metadata": {},
     "output_type": "execute_result"
    }
   ],
   "source": [
    "df_photos.head()"
   ]
  },
  {
   "cell_type": "code",
   "execution_count": 7,
   "id": "fd1db8dd",
   "metadata": {},
   "outputs": [
    {
     "data": {
      "text/html": [
       "<div>\n",
       "<style scoped>\n",
       "    .dataframe tbody tr th:only-of-type {\n",
       "        vertical-align: middle;\n",
       "    }\n",
       "\n",
       "    .dataframe tbody tr th {\n",
       "        vertical-align: top;\n",
       "    }\n",
       "\n",
       "    .dataframe thead th {\n",
       "        text-align: right;\n",
       "    }\n",
       "</style>\n",
       "<table border=\"1\" class=\"dataframe\">\n",
       "  <thead>\n",
       "    <tr style=\"text-align: right;\">\n",
       "      <th></th>\n",
       "      <th>converted_at</th>\n",
       "      <th>conversion_type</th>\n",
       "      <th>keyword</th>\n",
       "      <th>photo_id</th>\n",
       "      <th>anonymous_user_id</th>\n",
       "      <th>conversion_country</th>\n",
       "    </tr>\n",
       "  </thead>\n",
       "  <tbody>\n",
       "    <tr>\n",
       "      <th>0</th>\n",
       "      <td>2020-07-29 00:08:04.221</td>\n",
       "      <td>download</td>\n",
       "      <td>clouds</td>\n",
       "      <td>ABmygVJcYgY</td>\n",
       "      <td>dd01ebdd-7691-4518-ab19-b2105782ae8b</td>\n",
       "      <td>VE</td>\n",
       "    </tr>\n",
       "    <tr>\n",
       "      <th>1</th>\n",
       "      <td>2020-07-29 00:25:23.426</td>\n",
       "      <td>download</td>\n",
       "      <td>shark</td>\n",
       "      <td>fB2jl6Rb3l4</td>\n",
       "      <td>c48ba6e0-c6a7-4a92-b569-fe57808a8a2c</td>\n",
       "      <td>QA</td>\n",
       "    </tr>\n",
       "    <tr>\n",
       "      <th>2</th>\n",
       "      <td>2020-07-29 00:26:13.122</td>\n",
       "      <td>download</td>\n",
       "      <td>dogs</td>\n",
       "      <td>k1hbfag2na0</td>\n",
       "      <td>62c4f043-579c-438f-8815-eb8ba3c54d34</td>\n",
       "      <td>KR</td>\n",
       "    </tr>\n",
       "    <tr>\n",
       "      <th>3</th>\n",
       "      <td>2020-07-29 00:37:03.308</td>\n",
       "      <td>download</td>\n",
       "      <td>astronaut</td>\n",
       "      <td>-SyUjRlHauQ</td>\n",
       "      <td>7ad6dc18-a02e-4ba2-b93c-fd7ea2e551d8</td>\n",
       "      <td>JP</td>\n",
       "    </tr>\n",
       "    <tr>\n",
       "      <th>4</th>\n",
       "      <td>2020-07-29 00:54:28.942</td>\n",
       "      <td>download</td>\n",
       "      <td>red roses</td>\n",
       "      <td>A0iTJUhK4es</td>\n",
       "      <td>f03a5708-32e4-4fae-8210-3c5d2632cbfb</td>\n",
       "      <td>NZ</td>\n",
       "    </tr>\n",
       "  </tbody>\n",
       "</table>\n",
       "</div>"
      ],
      "text/plain": [
       "              converted_at conversion_type    keyword     photo_id  \\\n",
       "0  2020-07-29 00:08:04.221        download     clouds  ABmygVJcYgY   \n",
       "1  2020-07-29 00:25:23.426        download      shark  fB2jl6Rb3l4   \n",
       "2  2020-07-29 00:26:13.122        download       dogs  k1hbfag2na0   \n",
       "3  2020-07-29 00:37:03.308        download  astronaut  -SyUjRlHauQ   \n",
       "4  2020-07-29 00:54:28.942        download  red roses  A0iTJUhK4es   \n",
       "\n",
       "                      anonymous_user_id conversion_country  \n",
       "0  dd01ebdd-7691-4518-ab19-b2105782ae8b                 VE  \n",
       "1  c48ba6e0-c6a7-4a92-b569-fe57808a8a2c                 QA  \n",
       "2  62c4f043-579c-438f-8815-eb8ba3c54d34                 KR  \n",
       "3  7ad6dc18-a02e-4ba2-b93c-fd7ea2e551d8                 JP  \n",
       "4  f03a5708-32e4-4fae-8210-3c5d2632cbfb                 NZ  "
      ]
     },
     "execution_count": 7,
     "metadata": {},
     "output_type": "execute_result"
    }
   ],
   "source": [
    "df_conversions.head()"
   ]
  },
  {
   "cell_type": "markdown",
   "id": "be60618b",
   "metadata": {},
   "source": [
    "## Image Feature Extraction"
   ]
  },
  {
   "cell_type": "markdown",
   "id": "c39e7453",
   "metadata": {},
   "source": [
    "We leverage the [CLIP](https://huggingface.co/openai/clip-vit-base-patch32) model to extract image features for each image. Subsequently, we create two dataframes: one for photo information with embeddings and the other for conversion information.\n",
    "\n",
    "These dataframes provide us with the necessary information to carry out image similarity queries and examine conversion details.\""
   ]
  },
  {
   "cell_type": "code",
   "execution_count": 8,
   "id": "a99e292c",
   "metadata": {},
   "outputs": [],
   "source": [
    "import torch\n",
    "from transformers import CLIPProcessor, CLIPModel\n",
    "\n",
    "model = CLIPModel.from_pretrained('openai/clip-vit-base-patch32')\n",
    "processor = CLIPProcessor.from_pretrained(\"openai/clip-vit-base-patch32\")\n",
    "\n",
    "def extract_image_features(image):\n",
    "    inputs = processor(images=image, return_tensors=\"pt\")\n",
    "    with torch.no_grad():\n",
    "        outputs = model.get_image_features(**inputs)\n",
    "        outputs = outputs / outputs.norm(dim=-1, keepdim=True)\n",
    "    return outputs.squeeze(0).tolist()"
   ]
  },
  {
   "cell_type": "code",
   "execution_count": 9,
   "id": "e8272c87",
   "metadata": {},
   "outputs": [],
   "source": [
    "# pick first 1000 images\n",
    "\n",
    "photo_ids = df_photos['photo_id'].tolist()[:1000]\n",
    "df_photos = df_photos[df_photos['photo_id'].isin(photo_ids)].reset_index(drop=True)"
   ]
  },
  {
   "cell_type": "code",
   "execution_count": 10,
   "id": "1139a5e2",
   "metadata": {},
   "outputs": [
    {
     "data": {
      "application/vnd.jupyter.widget-view+json": {
       "model_id": "39e1b2efd6774698a514035658658b4c",
       "version_major": 2,
       "version_minor": 0
      },
      "text/plain": [
       "  0%|          | 0/1000 [00:00<?, ?it/s]"
      ]
     },
     "metadata": {},
     "output_type": "display_data"
    }
   ],
   "source": [
    "# download images and perform feature extraction\n",
    "# \n",
    "# Note: some images may fail to download due to outdated links\n",
    "\n",
    "from PIL import Image\n",
    "import requests\n",
    "from tqdm.auto import tqdm\n",
    "\n",
    "\n",
    "df_photos = df_photos[['photo_id', 'photo_image_url']]\n",
    "df_photos['photo_embed'] = None\n",
    "\n",
    "for i, row in tqdm(df_photos.iterrows(), total=len(df_photos)):   \n",
    "    # construct a URL to download an image with a smaller size by modifying the image URL\n",
    "    url = row['photo_image_url'] + \"?q=75&fm=jpg&w=200&fit=max\"\n",
    "    \n",
    "    try:\n",
    "        res = requests.get(url, stream=True).raw\n",
    "        image = Image.open(res)\n",
    "    except:\n",
    "        # remove photo if image download fails\n",
    "        photo_ids.remove(row['photo_id'])\n",
    "        continue\n",
    "    \n",
    "    # extract feature embedding\n",
    "    df_photos.at[i, 'photo_embed'] = extract_image_features(image)"
   ]
  },
  {
   "cell_type": "code",
   "execution_count": 11,
   "id": "18f45f3e",
   "metadata": {},
   "outputs": [
    {
     "data": {
      "text/html": [
       "<div>\n",
       "<style scoped>\n",
       "    .dataframe tbody tr th:only-of-type {\n",
       "        vertical-align: middle;\n",
       "    }\n",
       "\n",
       "    .dataframe tbody tr th {\n",
       "        vertical-align: top;\n",
       "    }\n",
       "\n",
       "    .dataframe thead th {\n",
       "        text-align: right;\n",
       "    }\n",
       "</style>\n",
       "<table border=\"1\" class=\"dataframe\">\n",
       "  <thead>\n",
       "    <tr style=\"text-align: right;\">\n",
       "      <th></th>\n",
       "      <th>photo_id</th>\n",
       "      <th>photo_image_url</th>\n",
       "      <th>photo_embed</th>\n",
       "    </tr>\n",
       "  </thead>\n",
       "  <tbody>\n",
       "    <tr>\n",
       "      <th>0</th>\n",
       "      <td>XMyPniM9LF0</td>\n",
       "      <td>https://images.unsplash.com/uploads/1411949294...</td>\n",
       "      <td>[-0.02423190325498581, 0.05229705199599266, 0....</td>\n",
       "    </tr>\n",
       "    <tr>\n",
       "      <th>1</th>\n",
       "      <td>rDLBArZUl1c</td>\n",
       "      <td>https://images.unsplash.com/photo-141633941111...</td>\n",
       "      <td>[-0.032578177750110626, 0.028756439685821533, ...</td>\n",
       "    </tr>\n",
       "    <tr>\n",
       "      <th>2</th>\n",
       "      <td>cNDGZ2sQ3Bo</td>\n",
       "      <td>https://images.unsplash.com/photo-142014251503...</td>\n",
       "      <td>[-0.03327571600675583, 0.051595136523246765, 0...</td>\n",
       "    </tr>\n",
       "    <tr>\n",
       "      <th>3</th>\n",
       "      <td>iuZ_D1eoq9k</td>\n",
       "      <td>https://images.unsplash.com/photo-141487280988...</td>\n",
       "      <td>[0.008161935955286026, 0.00707155792042613, -0...</td>\n",
       "    </tr>\n",
       "    <tr>\n",
       "      <th>4</th>\n",
       "      <td>BeD3vjQ8SI0</td>\n",
       "      <td>https://images.unsplash.com/photo-141700759404...</td>\n",
       "      <td>[-0.01028392929583788, -0.0009960911702364683,...</td>\n",
       "    </tr>\n",
       "  </tbody>\n",
       "</table>\n",
       "</div>"
      ],
      "text/plain": [
       "      photo_id                                    photo_image_url  \\\n",
       "0  XMyPniM9LF0  https://images.unsplash.com/uploads/1411949294...   \n",
       "1  rDLBArZUl1c  https://images.unsplash.com/photo-141633941111...   \n",
       "2  cNDGZ2sQ3Bo  https://images.unsplash.com/photo-142014251503...   \n",
       "3  iuZ_D1eoq9k  https://images.unsplash.com/photo-141487280988...   \n",
       "4  BeD3vjQ8SI0  https://images.unsplash.com/photo-141700759404...   \n",
       "\n",
       "                                         photo_embed  \n",
       "0  [-0.02423190325498581, 0.05229705199599266, 0....  \n",
       "1  [-0.032578177750110626, 0.028756439685821533, ...  \n",
       "2  [-0.03327571600675583, 0.051595136523246765, 0...  \n",
       "3  [0.008161935955286026, 0.00707155792042613, -0...  \n",
       "4  [-0.01028392929583788, -0.0009960911702364683,...  "
      ]
     },
     "execution_count": 11,
     "metadata": {},
     "output_type": "execute_result"
    }
   ],
   "source": [
    "df_photos = df_photos[df_photos['photo_id'].isin(photo_ids)].reset_index(drop=True)\n",
    "df_photos.head()"
   ]
  },
  {
   "cell_type": "code",
   "execution_count": 12,
   "id": "0bc2d759",
   "metadata": {},
   "outputs": [
    {
     "data": {
      "text/html": [
       "<div>\n",
       "<style scoped>\n",
       "    .dataframe tbody tr th:only-of-type {\n",
       "        vertical-align: middle;\n",
       "    }\n",
       "\n",
       "    .dataframe tbody tr th {\n",
       "        vertical-align: top;\n",
       "    }\n",
       "\n",
       "    .dataframe thead th {\n",
       "        text-align: right;\n",
       "    }\n",
       "</style>\n",
       "<table border=\"1\" class=\"dataframe\">\n",
       "  <thead>\n",
       "    <tr style=\"text-align: right;\">\n",
       "      <th></th>\n",
       "      <th>photo_id</th>\n",
       "      <th>keyword</th>\n",
       "      <th>conversion_country</th>\n",
       "    </tr>\n",
       "  </thead>\n",
       "  <tbody>\n",
       "    <tr>\n",
       "      <th>0</th>\n",
       "      <td>Knwea-mLGAg</td>\n",
       "      <td>starry sky</td>\n",
       "      <td>TW</td>\n",
       "    </tr>\n",
       "    <tr>\n",
       "      <th>1</th>\n",
       "      <td>AZMmUy2qL6A</td>\n",
       "      <td>camping</td>\n",
       "      <td>KR</td>\n",
       "    </tr>\n",
       "    <tr>\n",
       "      <th>2</th>\n",
       "      <td>agE97zp_Xvo</td>\n",
       "      <td>lonely</td>\n",
       "      <td>IN</td>\n",
       "    </tr>\n",
       "    <tr>\n",
       "      <th>3</th>\n",
       "      <td>EXbGG5dBZKw</td>\n",
       "      <td>happy</td>\n",
       "      <td>CN</td>\n",
       "    </tr>\n",
       "    <tr>\n",
       "      <th>4</th>\n",
       "      <td>EWDvHNNfUmQ</td>\n",
       "      <td>wood</td>\n",
       "      <td>EC</td>\n",
       "    </tr>\n",
       "  </tbody>\n",
       "</table>\n",
       "</div>"
      ],
      "text/plain": [
       "      photo_id     keyword conversion_country\n",
       "0  Knwea-mLGAg  starry sky                 TW\n",
       "1  AZMmUy2qL6A     camping                 KR\n",
       "2  agE97zp_Xvo      lonely                 IN\n",
       "3  EXbGG5dBZKw       happy                 CN\n",
       "4  EWDvHNNfUmQ        wood                 EC"
      ]
     },
     "execution_count": 12,
     "metadata": {},
     "output_type": "execute_result"
    }
   ],
   "source": [
    "df_conversions = df_conversions[df_conversions['photo_id'].isin(photo_ids)].reset_index(drop=True)\n",
    "df_conversions = df_conversions[['photo_id', 'keyword', 'conversion_country']]\n",
    "df_conversions.head()"
   ]
  },
  {
   "cell_type": "markdown",
   "id": "20a31845",
   "metadata": {},
   "source": [
    "## Transform dataset to parquet"
   ]
  },
  {
   "cell_type": "markdown",
   "id": "90a6ac5f",
   "metadata": {},
   "source": [
    "Finally, we convert the dataframes into Parquet files and upload them to the Hugging Face dataset. This makes it simple to access and share the data."
   ]
  },
  {
   "cell_type": "code",
   "execution_count": 13,
   "id": "77ba072c",
   "metadata": {},
   "outputs": [],
   "source": [
    "import pyarrow as pa\n",
    "import pyarrow.parquet as pq\n",
    "import numpy as np\n",
    "\n",
    "# Create a Table object from the data and schema\n",
    "photos_table = pa.Table.from_pandas(df_photos)\n",
    "conversion_table = pa.Table.from_pandas(df_conversions)\n",
    "\n",
    "# Write the table to a Parquet file\n",
    "pq.write_table(photos_table, 'photos.parquet')\n",
    "pq.write_table(conversion_table, 'conversions.parquet')"
   ]
  },
  {
   "cell_type": "code",
   "execution_count": null,
   "id": "c27eb354",
   "metadata": {},
   "outputs": [],
   "source": []
  }
 ],
 "metadata": {
  "kernelspec": {
   "display_name": "Python 3 (ipykernel)",
   "language": "python",
   "name": "python3"
  },
  "language_info": {
   "codemirror_mode": {
    "name": "ipython",
    "version": 3
   },
   "file_extension": ".py",
   "mimetype": "text/x-python",
   "name": "python",
   "nbconvert_exporter": "python",
   "pygments_lexer": "ipython3",
   "version": "3.9.16"
  }
 },
 "nbformat": 4,
 "nbformat_minor": 5
}
