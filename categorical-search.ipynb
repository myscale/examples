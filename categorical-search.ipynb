{
 "cells": [
  {
   "cell_type": "markdown",
   "id": "aa684924",
   "metadata": {},
   "source": [
    "# Categorical Search"
   ]
  },
  {
   "cell_type": "markdown",
   "id": "9c4d13f1",
   "metadata": {},
   "source": [
    "<a href=\"https://colab.research.google.com/github/myscale/examples/blob/main/categorical-search.ipynb\" style=\"padding-left: 0.5rem;\"><img src=\"https://colab.research.google.com/assets/colab-badge.svg?style=plastic)](https://colab.research.google.com/github/myscale/examples/blob/main/categorical-search.ipynb)\"></a>\n",
    "<a href=\"https://github.com/myscale/examples/blob/main/categorical-search.ipynb\" style=\"padding-left: 0.5rem;\"><img src=\"https://img.shields.io/badge/Open-Github-blue.svg?logo=github&style=plastic)](https://github.com/myscale/examples/blob/main/categorical-search.ipynb)\"></a>"
   ]
  },
  {
   "cell_type": "markdown",
   "id": "c53e0da8",
   "metadata": {},
   "source": [
    "## Introduction\n",
    "\n",
    "This notebook will show you how to access your MyScale cluster, create table, import data, and execute SQL queries in just a few simple steps.\n"
   ]
  },
  {
   "cell_type": "markdown",
   "id": "2a9d5558",
   "metadata": {},
   "source": [
    "## Prerequisites\n",
    "Before getting started with python, you need to install [Clickhouse client](https://clickhouse.com/docs/en/integrations/language-clients/python/intro/)."
   ]
  },
  {
   "cell_type": "code",
   "execution_count": 1,
   "id": "41eb00e7",
   "metadata": {},
   "outputs": [
    {
     "name": "stdout",
     "output_type": "stream",
     "text": [
      "Requirement already satisfied: clickhouse-connect in /opt/anaconda3/lib/python3.8/site-packages (0.5.14)\n",
      "Requirement already satisfied: zstandard in /opt/anaconda3/lib/python3.8/site-packages (from clickhouse-connect) (0.20.0)\n",
      "Requirement already satisfied: lz4 in /opt/anaconda3/lib/python3.8/site-packages (from clickhouse-connect) (4.3.2)\n",
      "Requirement already satisfied: pytz in /opt/anaconda3/lib/python3.8/site-packages (from clickhouse-connect) (2021.3)\n",
      "Requirement already satisfied: certifi in /opt/anaconda3/lib/python3.8/site-packages (from clickhouse-connect) (2021.10.8)\n",
      "Requirement already satisfied: urllib3>=1.26 in /opt/anaconda3/lib/python3.8/site-packages (from clickhouse-connect) (1.26.7)\n"
     ]
    }
   ],
   "source": [
    "!pip install clickhouse-connect"
   ]
  },
  {
   "attachments": {},
   "cell_type": "markdown",
   "id": "3af99ed0",
   "metadata": {},
   "source": [
    "## Access MyScale cluster\n",
    "\n",
    "To connect to your cluster with python, you'll need to provide your cluster host, username, and password. Follow the description in [Connection Details](https://docs.myscale.com/en/cluster-management/#connection-details) to get your connection infomation."
   ]
  },
  {
   "cell_type": "code",
   "execution_count": 1,
   "id": "451a8515",
   "metadata": {},
   "outputs": [],
   "source": [
    "import clickhouse_connect\n",
    "\n",
    "# initialize client\n",
    "# note that you can retrieve your CLUSTER_HOST from your CLUSTER_URL, formatted as \"https://{HOST}:{PORT}\"\n",
    "client = clickhouse_connect.get_client(host='YOUR_CLUSTER_HOST', port=8443, username='YOUR_USERNAME', password='YOUR_CLUSTER_PASSWORD')"
   ]
  },
  {
   "cell_type": "markdown",
   "id": "935ed64e",
   "metadata": {},
   "source": [
    "## Importing data\n",
    "\n",
    "To import data into MyScale, follow these three steps:\n",
    "\n",
    "1. Create a table\n",
    "2. Insert data into the table\n",
    "3. Build a vector index"
   ]
  },
  {
   "cell_type": "markdown",
   "id": "efa8ee7b",
   "metadata": {},
   "source": [
    "### Creating a table\n",
    "Tables must be created in MyScale before you can import data.\n",
    "\n",
    "Create a new table named `default.myscale_categorical_search`."
   ]
  },
  {
   "cell_type": "code",
   "execution_count": 2,
   "id": "4d1042ec",
   "metadata": {},
   "outputs": [
    {
     "data": {
      "text/plain": [
       "''"
      ]
     },
     "execution_count": 2,
     "metadata": {},
     "output_type": "execute_result"
    }
   ],
   "source": [
    "# Create a table with 128 dimensional vectors.\n",
    "client.command(\"\"\"\n",
    "CREATE TABLE default.myscale_categorical_search\n",
    "(\n",
    "    id    UInt32,\n",
    "    data  Array(Float32),\n",
    "    CONSTRAINT check_length CHECK length(data) = 128,\n",
    "    date  Date,\n",
    "    label Enum8('person' = 1, 'building' = 2, 'animal' = 3)\n",
    ")\n",
    "ORDER BY id\"\"\")"
   ]
  },
  {
   "cell_type": "markdown",
   "id": "9bc08fe0",
   "metadata": {},
   "source": [
    "### Inserting data\n",
    "MyScale currently supports data import from AWS S3 and other cloud services with S3-compatible APIs, such as Tencent Cloud Object Service.\n",
    "\n",
    "Use SQL to import data into the `default.myscale_categorical_search` table. Supported file formats include `CSV`, `CSVWithNames`, `JSONEachRow`, and `Parquet`. Please see [Formats for Input and Output Data](https://clickhouse.com/docs/en/interfaces/formats/) for detailed description of all supported formats."
   ]
  },
  {
   "cell_type": "code",
   "execution_count": 3,
   "id": "bba01f96",
   "metadata": {},
   "outputs": [
    {
     "data": {
      "text/plain": [
       "''"
      ]
     },
     "execution_count": 3,
     "metadata": {},
     "output_type": "execute_result"
    }
   ],
   "source": [
    "client.command(\"\"\"\n",
    "INSERT INTO default.myscale_categorical_search\n",
    "    SELECT * FROM s3(\n",
    "        'https://d3lhz231q7ogjd.cloudfront.net/sample-datasets/quick-start/categorical-search.csv',\n",
    "        'AKIDIQI6evvf8LHxMTJtDF0UifLktlLegRv8', 'xe3B2cvxiCRP5UdU5PTGlzw71e06uSji',\n",
    "        'CSVWithNames',\n",
    "        'id UInt32, data Array(Float32), date Date, label Enum8(''person'' = 1, ''building'' = 2, ''animal'' = 3)'\n",
    "    )\"\"\")\n"
   ]
  },
  {
   "attachments": {},
   "cell_type": "markdown",
   "id": "f84ebab8",
   "metadata": {},
   "source": [
    "### Building a vector index\n",
    "In addition to creating traditional indexes on structured data, you can also create a Vector Index in MyScale for vector embeddings.\n",
    "\n",
    "**Step 1**. Create an MSTG vector index and check vector index build status\n",
    "\n",
    "The build time of the index will depend on the size of your data import"
   ]
  },
  {
   "cell_type": "code",
   "execution_count": 5,
   "id": "eb5a38dc",
   "metadata": {},
   "outputs": [
    {
     "data": {
      "text/plain": [
       "''"
      ]
     },
     "execution_count": 5,
     "metadata": {},
     "output_type": "execute_result"
    }
   ],
   "source": [
    "client.command(\"\"\"\n",
    "ALTER TABLE default.myscale_categorical_search\n",
    "    ADD VECTOR INDEX categorical_vector_idx data\n",
    "    TYPE MSTG\"\"\")"
   ]
  },
  {
   "cell_type": "markdown",
   "id": "2e20cd1c",
   "metadata": {},
   "source": [
    "**Step 2**. Use SQL to check vector index build status"
   ]
  },
  {
   "cell_type": "code",
   "execution_count": 8,
   "id": "6dfdd7eb",
   "metadata": {},
   "outputs": [
    {
     "name": "stdout",
     "output_type": "stream",
     "text": [
      "index build status is Built\n"
     ]
    }
   ],
   "source": [
    "# Query the 'vector_indices' system table to check the status of the index creation.\n",
    "get_index_status=\"SELECT status FROM system.vector_indices WHERE table='myscale_categorical_search'\"\n",
    "\n",
    "# Print the status of the index creation.  The status will be 'Built' if the index was created successfully.\n",
    "print(f\"index build status is {client.command(get_index_status)}\")"
   ]
  },
  {
   "cell_type": "markdown",
   "id": "ffd76ae0",
   "metadata": {},
   "source": [
    "## Executing SQL queries\n",
    "After importing data into a MyScale table, queries may be performed on the data within the table. In no time, you’ll be able to experience the quick query speeds attainable with MyScale."
   ]
  },
  {
   "cell_type": "markdown",
   "id": "d9c71a21",
   "metadata": {},
   "source": [
    "### Vector search\n",
    "Conventionally, queries are made using text or images, such as “a blue car” or images of a blue car. However, MyScale treats all queries as vectors, and gives a response to the query based on the similarity (“distance“) between the query and the existing data within the table.\n",
    "\n",
    "To retrieve data using a vector as the query, use this SQL command as below, which returns the 10 most similar results"
   ]
  },
  {
   "cell_type": "code",
   "execution_count": 9,
   "id": "904a89e3",
   "metadata": {},
   "outputs": [
    {
     "name": "stdout",
     "output_type": "stream",
     "text": [
      "currently selected item id=789292, label=building, date=1985-12-18\n",
      "Top 10 candidates:\n",
      "789292 1985-12-18 building 0.0\n",
      "407891 2020-11-17 person 50215.0\n",
      "790816 1993-06-28 building 51787.0\n",
      "402999 1977-09-09 building 58818.0\n",
      "10452 2031-03-10 person 59212.0\n",
      "203989 2031-01-06 animal 59496.0\n",
      "204908 1977-01-05 building 62080.0\n",
      "590194 2008-11-30 building 62286.0\n",
      "802112 1997-02-15 person 65755.0\n",
      "394816 1977-06-22 animal 66460.0\n"
     ]
    }
   ],
   "source": [
    "# pick a random row from the table as the target\n",
    "random_row = client.query(\"SELECT * FROM default.myscale_categorical_search ORDER BY rand() LIMIT 1\")\n",
    "assert random_row.row_count == 1\n",
    "target_row_id = random_row.first_item[\"id\"]\n",
    "target_row_label = random_row.first_item[\"label\"]\n",
    "target_row_date = random_row.first_item[\"date\"]\n",
    "target_row_data = random_row.first_item[\"data\"]\n",
    "print(\"currently selected item id={}, label={}, date={}\".format(target_row_id, target_row_label, target_row_date))\n",
    "\n",
    "# Fetch the result of the query.\n",
    "result = client.query(f\"\"\"\n",
    "SELECT id, date, label, \n",
    "    distance(data, {target_row_data}) as dist \n",
    "FROM default.myscale_categorical_search\n",
    "ORDER BY dist ASC\n",
    "LIMIT 10\n",
    "\"\"\")\n",
    "\n",
    "# Iterate through the rows of the query result and print the 'id', 'date',\n",
    "# 'label', and distance for each row.\n",
    "print(\"Top 10 candidates:\")\n",
    "for row in result.named_results():\n",
    "    print(row[\"id\"], row[\"date\"], row[\"label\"], row[\"dist\"])"
   ]
  },
  {
   "cell_type": "markdown",
   "id": "97d28400",
   "metadata": {},
   "source": [
    "### Filtered search\n",
    "In the earlier demonstration, a query was executed using vector embeddings. Additionally, users can also perform queries that utilize a combination of structured and vector data in SQL."
   ]
  },
  {
   "cell_type": "code",
   "execution_count": 10,
   "id": "87c73a0f",
   "metadata": {},
   "outputs": [
    {
     "name": "stdout",
     "output_type": "stream",
     "text": [
      "203989 2031-01-06 animal 59496.0\n",
      "787606 2027-02-23 animal 68521.0\n",
      "602833 2032-07-04 animal 73845.0\n",
      "610401 2018-10-13 animal 74414.0\n",
      "7547 2026-11-26 animal 76731.0\n",
      "407873 2033-02-24 animal 81271.0\n",
      "202149 2025-09-17 animal 82537.0\n",
      "798320 2006-07-13 animal 84778.0\n",
      "393951 2029-04-21 animal 86319.0\n",
      "399191 2018-07-31 animal 88445.0\n"
     ]
    }
   ],
   "source": [
    "# Fetch the result of the query.\n",
    "result = client.query(f\"\"\"\n",
    "SELECT id, date, label, \n",
    "    distance(data, {target_row_data}) as dist\n",
    "FROM default.myscale_categorical_search\n",
    "WHERE toYear(date) >= 2000 AND label = 'animal'\n",
    "ORDER BY dist ASC\n",
    "LIMIT 10\n",
    "\"\"\")\n",
    "\n",
    "# Iterate through the rows of the query result and print the 'id', 'date',\n",
    "# 'label', and distance for each row.\n",
    "for row in result.named_results():\n",
    "    print(row[\"id\"], row[\"date\"], row[\"label\"], row[\"dist\"])"
   ]
  },
  {
   "cell_type": "code",
   "execution_count": null,
   "id": "8753b82a",
   "metadata": {},
   "outputs": [],
   "source": []
  },
  {
   "cell_type": "code",
   "execution_count": null,
   "id": "286270af",
   "metadata": {},
   "outputs": [],
   "source": []
  }
 ],
 "metadata": {
  "kernelspec": {
   "display_name": "Python 3 (ipykernel)",
   "language": "python",
   "name": "python3"
  },
  "language_info": {
   "codemirror_mode": {
    "name": "ipython",
    "version": 3
   },
   "file_extension": ".py",
   "mimetype": "text/x-python",
   "name": "python",
   "nbconvert_exporter": "python",
   "pygments_lexer": "ipython3",
   "version": "3.8.10"
  }
 },
 "nbformat": 4,
 "nbformat_minor": 5
}
