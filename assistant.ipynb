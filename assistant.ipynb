{
 "cells": [
  {
   "cell_type": "markdown",
   "metadata": {},
   "source": [
    "# OpenAI Assistant API with MyScale\n",
    "\n",
    "Using MyScale as external knowledge base for assistant API"
   ]
  },
  {
   "cell_type": "code",
   "execution_count": null,
   "metadata": {},
   "outputs": [],
   "source": [
    "!python3 -m pip install --upgrade openai sentence-transformers"
   ]
  },
  {
   "cell_type": "markdown",
   "metadata": {},
   "source": [
    "## Load Embedding Model"
   ]
  },
  {
   "cell_type": "code",
   "execution_count": 2,
   "metadata": {},
   "outputs": [],
   "source": [
    "from sentence_transformers import SentenceTransformer\n",
    "\n",
    "emb_model = SentenceTransformer('sentence-transformers/paraphrase-multilingual-mpnet-base-v2')"
   ]
  },
  {
   "cell_type": "markdown",
   "metadata": {},
   "source": [
    "## Connect to MyScale"
   ]
  },
  {
   "cell_type": "code",
   "execution_count": 3,
   "metadata": {},
   "outputs": [],
   "source": [
    "    \n",
    "import clickhouse_connect\n",
    "\n",
    "db = clickhouse_connect.get_client(\n",
    "    host='msc-4a9e710a.us-east-1.aws.staging.myscale.cloud',\n",
    "    port=443,\n",
    "    username='chatdata',\n",
    "    password='myscale_rocks'\n",
    ")\n"
   ]
  },
  {
   "cell_type": "markdown",
   "metadata": {},
   "source": [
    "## Setting up tools"
   ]
  },
  {
   "cell_type": "code",
   "execution_count": 4,
   "metadata": {},
   "outputs": [],
   "source": [
    "must_have_cols = ['text', 'title', 'views']\n",
    "database = 'wiki'\n",
    "table = 'Wikipedia'\n",
    "\n",
    "def get_related_pages(subject, where_str, limit):\n",
    "    q_emb = emb_model.encode(subject).tolist()\n",
    "    q_emb_str = \",\".join(map(str, q_emb))\n",
    "    if where_str:\n",
    "        where_str = f\"WHERE {where_str}\"\n",
    "    else:\n",
    "        where_str = \"\"\n",
    "\n",
    "    q_str = f\"\"\"\n",
    "        SELECT dist, {','.join(must_have_cols)}\n",
    "        FROM {database}.{table}\n",
    "        {where_str}\n",
    "        ORDER BY distance(emb, [{q_emb_str}]) \n",
    "            AS dist ASC\n",
    "        LIMIT {limit}\n",
    "        \"\"\"\n",
    "\n",
    "    docs = [r for r in db.query(q_str).named_results()]\n",
    "    return '\\n'.join([str(d) for d in docs])\n",
    "\n",
    "tools = {\n",
    "    \"get_wiki_pages\": lambda subject, where_str, limit: get_related_pages(subject, where_str, limit),\n",
    "}"
   ]
  },
  {
   "cell_type": "markdown",
   "metadata": {},
   "source": [
    "## Defining tools in Assistant API"
   ]
  },
  {
   "cell_type": "code",
   "execution_count": 5,
   "metadata": {},
   "outputs": [
    {
     "data": {
      "text/plain": [
       "Assistant(id='asst_YkfDnV9tt89Kk0rFKbBmVCcv', created_at=1699930778, description=None, file_ids=[], instructions='You are a helpful assistant. Do your best to answer the questions. ', metadata={}, model='gpt-3.5-turbo', name='ChatData', object='assistant', tools=[ToolFunction(function=FunctionDefinition(name='get_wiki_pages', parameters={'type': 'object', 'properties': {'subject': {'type': 'string', 'description': 'a sentence or phrase describes the subject you want to query.'}, 'where_str': {'type': 'string', 'description': 'a sql-like where string to build filter.'}, 'limit': {'type': 'integer', 'description': 'default to 4'}}, 'required': ['subject', 'where_str', 'limit']}, description='Get some related wiki pages.\\nYou should use schema here to build WHERE string:\\n\\nCREATE TABLE Wikipedia (\\n    `id` String,\\n    `text` String, -- abstract of the wiki page. avoid using this column to do LIKE match\\n    `title` String, -- title of the paper\\n    `view` Float32,\\n    `url` String, -- URL to this wiki page\\nORDER BY id\\nYou should avoid using LIKE on long text columns.'), type='function')])"
      ]
     },
     "execution_count": 5,
     "metadata": {},
     "output_type": "execute_result"
    }
   ],
   "source": [
    "from openai import OpenAI\n",
    "\n",
    "assistant = client.beta.assistants.create(\n",
    "    name=\"ChatData\",\n",
    "    instructions=(\n",
    "        \"You are a helpful assistant. Do your best to answer the questions. \"\n",
    "    ),\n",
    "    tools=[\n",
    "        {\n",
    "            \"type\": \"function\",\n",
    "            \"function\": {\n",
    "                \"name\": \"get_wiki_pages\",\n",
    "                \"description\": (\n",
    "                    \"Get some related wiki pages.\\n\"\n",
    "                    \"You should use schema here to build WHERE string:\\n\\n\"\n",
    "                    \"CREATE TABLE Wikipedia (\\n\"\n",
    "                    \"    `id` String,\\n\"\n",
    "                    \"    `text` String, -- abstract of the wiki page. avoid using this column to do LIKE match\\n\"\n",
    "                    \"    `title` String, -- title of the paper\\n\"\n",
    "                    \"    `view` Float32,\\n\"\n",
    "                    \"    `url` String, -- URL to this wiki page\\n\"\n",
    "                    \"ORDER BY id\\n\"\n",
    "                    \"You should avoid using LIKE on long text columns.\"\n",
    "                ),\n",
    "                \"parameters\": {\n",
    "                    \"type\": \"object\",\n",
    "                    \"properties\": {\n",
    "                        \"subject\": {\"type\": \"string\", \"description\": \"a sentence or phrase describes the subject you want to query.\"},\n",
    "                        \"where_str\": {\n",
    "                            \"type\": \"string\",\n",
    "                            \"description\": \"a sql-like where string to build filter.\",\n",
    "                        },\n",
    "                        \"limit\": {\"type\": \"integer\", \"description\": \"default to 4\"},\n",
    "                    },\n",
    "                    \"required\": [\"subject\", \"where_str\", \"limit\"],\n",
    "                },\n",
    "            },\n",
    "        }\n",
    "    ],\n",
    "    model=\"gpt-3.5-turbo\",\n",
    ")\n",
    "assistant"
   ]
  },
  {
   "cell_type": "markdown",
   "metadata": {},
   "source": [
    "## Create threads"
   ]
  },
  {
   "cell_type": "code",
   "execution_count": 6,
   "metadata": {},
   "outputs": [
    {
     "data": {
      "text/plain": [
       "Thread(id='thread_yLrOYHA9OGpGETWus4kpWxnt', created_at=1699930781, metadata={}, object='thread')"
      ]
     },
     "execution_count": 6,
     "metadata": {},
     "output_type": "execute_result"
    }
   ],
   "source": [
    "thread = client.beta.threads.create()\n",
    "thread"
   ]
  },
  {
   "cell_type": "markdown",
   "metadata": {},
   "source": [
    "## Add messages into the thread"
   ]
  },
  {
   "cell_type": "code",
   "execution_count": 7,
   "metadata": {},
   "outputs": [
    {
     "data": {
      "text/plain": [
       "SyncCursorPage[ThreadMessage](data=[ThreadMessage(id='msg_wn5sZU2b2QDC2rZ1PtrxODJQ', assistant_id=None, content=[MessageContentText(text=Text(annotations=[], value='What is Ring in mathematics? Please query the related documents to answer this.'), type='text')], created_at=1699930783, file_ids=[], metadata={}, object='thread.message', role='user', run_id=None, thread_id='thread_yLrOYHA9OGpGETWus4kpWxnt')], object='list', first_id='msg_wn5sZU2b2QDC2rZ1PtrxODJQ', last_id='msg_wn5sZU2b2QDC2rZ1PtrxODJQ', has_more=False)"
      ]
     },
     "execution_count": 7,
     "metadata": {},
     "output_type": "execute_result"
    }
   ],
   "source": [
    "message = client.beta.threads.messages.create(\n",
    "    thread_id=thread.id,\n",
    "    role=\"user\",\n",
    "    content=\"What is Ring in mathematics? Please query the related documents to answer this.\",\n",
    ")\n",
    "client.beta.threads.messages.list(thread_id=thread.id)"
   ]
  },
  {
   "cell_type": "markdown",
   "metadata": {},
   "source": [
    "## Create run using the thread\n",
    "\n",
    "The messages attached into the thread will be used as context"
   ]
  },
  {
   "cell_type": "code",
   "execution_count": 8,
   "metadata": {},
   "outputs": [
    {
     "data": {
      "text/plain": [
       "Run(id='run_0nGLjRYQDXM4d6IbFY5aSd8p', assistant_id='asst_YkfDnV9tt89Kk0rFKbBmVCcv', cancelled_at=None, completed_at=None, created_at=1699930786, expires_at=1699931386, failed_at=None, file_ids=[], instructions=\"You must use query tools to look up relevant information to every answer user's question.\", last_error=None, metadata={}, model='gpt-3.5-turbo', object='thread.run', required_action=None, started_at=None, status='queued', thread_id='thread_yLrOYHA9OGpGETWus4kpWxnt', tools=[ToolAssistantToolsFunction(function=FunctionDefinition(name='get_wiki_pages', parameters={'type': 'object', 'properties': {'subject': {'type': 'string', 'description': 'a sentence or phrase describes the subject you want to query.'}, 'where_str': {'type': 'string', 'description': 'a sql-like where string to build filter.'}, 'limit': {'type': 'integer', 'description': 'default to 4'}}, 'required': ['subject', 'where_str', 'limit']}, description='Get some related wiki pages.\\nYou should use schema here to build WHERE string:\\n\\nCREATE TABLE Wikipedia (\\n    `id` String,\\n    `text` String, -- abstract of the wiki page. avoid using this column to do LIKE match\\n    `title` String, -- title of the paper\\n    `view` Float32,\\n    `url` String, -- URL to this wiki page\\nORDER BY id\\nYou should avoid using LIKE on long text columns.'), type='function')])"
      ]
     },
     "execution_count": 8,
     "metadata": {},
     "output_type": "execute_result"
    }
   ],
   "source": [
    "run = client.beta.threads.runs.create(\n",
    "    thread_id=thread.id,\n",
    "    assistant_id=assistant.id,\n",
    "    instructions= \"You must use query tools to look up relevant information to every answer user's question.\",\n",
    ")\n",
    "run"
   ]
  },
  {
   "cell_type": "markdown",
   "metadata": {},
   "source": [
    "## Retrieve state of this run\n",
    "\n",
    "- If `completed`, then we just get the final message\n",
    "- If `action_required`, then we need to call the function and submit output to assistant api\n",
    "- Otherwise, just keep waiting."
   ]
  },
  {
   "cell_type": "code",
   "execution_count": 9,
   "metadata": {},
   "outputs": [
    {
     "name": "stdout",
     "output_type": "stream",
     "text": [
      "> Action Required <\n",
      "[RequiredActionFunctionToolCall(id='call_oSJeKLx8rsv13dLzfHJxFiPp', function=Function(arguments='{\\n  \"subject\": \"Ring mathematics\",\\n  \"where_str\": \"title LIKE \\'%Ring%\\'\",\\n  \"limit\": 5\\n}', name='get_wiki_pages'), type='function')]\n"
     ]
    }
   ],
   "source": [
    "from time import sleep\n",
    "while True:\n",
    "    run = client.beta.threads.runs.retrieve(thread_id=thread.id, run_id=run.id)\n",
    "    if run.status == 'completed':\n",
    "        print(client.beta.threads.messages.list(thread_id=thread.id))\n",
    "        break\n",
    "    elif len(run.required_action.submit_tool_outputs.tool_calls) > 0:\n",
    "        print(\"> Action Required <\")\n",
    "        print(run.required_action.submit_tool_outputs.tool_calls)\n",
    "        break\n",
    "    sleep(1)"
   ]
  },
  {
   "cell_type": "markdown",
   "metadata": {},
   "source": [
    "## Calling the tool"
   ]
  },
  {
   "cell_type": "code",
   "execution_count": 10,
   "metadata": {},
   "outputs": [
    {
     "data": {
      "text/plain": [
       "[{'tool_call_id': 'call_oSJeKLx8rsv13dLzfHJxFiPp',\n",
       "  'output': '{\\'dist\\': 0.1616729497909546, \\'text\\': \\'In mathematics, rings are algebraic structures that generalize fields: multiplication need not be commutative and multiplicative inverses need not exist. In other words, a \"ring\" is a set equipped with two binary operations satisfying properties analogous to those of addition and multiplication of integers. Ring elements may be numbers such as integers or complex numbers, but they may also be non-numerical objects such as polynomials, square matrices, functions, and power series.\\', \\'title\\': \\'Ring (mathematics)\\', \\'views\\': 1880.995849609375}\\n{\\'dist\\': 0.17147916555404663, \\'text\\': \\'A ring is a set \"R\" equipped with two binary operations + (addition) and ⋅ (multiplication) satisfying the following three sets of axioms, called the ring axioms\\', \\'title\\': \\'Ring (mathematics)\\', \\'views\\': 1880.995849609375}\\n{\\'dist\\': 0.21737223863601685, \\'text\\': \\'The axioms of a ring were elaborated as a generalization of familiar properties of addition and multiplication of integers.\\', \\'title\\': \\'Ring (mathematics)\\', \\'views\\': 1880.995849609375}\\n{\\'dist\\': 0.2255333662033081, \\'text\\': \\'Formally, a \"ring\" is an abelian group whose operation is called \"addition\", with a second binary operation called \"multiplication\" that is associative, is distributive over the addition operation, and has a multiplicative identity element. (Some authors use the term \"\" with a missing i to refer to the more general structure that omits this last requirement; see .)\\', \\'title\\': \\'Ring (mathematics)\\', \\'views\\': 1880.995849609375}\\n{\\'dist\\': 0.24895650148391724, \\'text\\': \\'Symmetric difference and intersection together give a ring in the measure-theoretic sense the structure of a boolean ring.\\', \\'title\\': \\'Ring of sets\\', \\'views\\': 216.46456909179688}'}]"
      ]
     },
     "execution_count": 10,
     "metadata": {},
     "output_type": "execute_result"
    }
   ],
   "source": [
    "import json\n",
    "\n",
    "tool_calls = run.required_action.submit_tool_outputs.tool_calls\n",
    "outputs = []\n",
    "for call in tool_calls:\n",
    "    func = call.function\n",
    "    outputs.append({\"tool_call_id\": call.id, \"output\": tools[func.name](**json.loads(func.arguments))})\n",
    "outputs"
   ]
  },
  {
   "cell_type": "markdown",
   "metadata": {},
   "source": [
    "## Submitting the tool output"
   ]
  },
  {
   "cell_type": "code",
   "execution_count": 11,
   "metadata": {},
   "outputs": [],
   "source": [
    "run = client.beta.threads.runs.submit_tool_outputs(\n",
    "  thread_id=thread.id,\n",
    "  run_id=run.id,\n",
    "  tool_outputs=outputs\n",
    ")"
   ]
  },
  {
   "cell_type": "markdown",
   "metadata": {},
   "source": [
    "## Get the message from the thread"
   ]
  },
  {
   "cell_type": "code",
   "execution_count": 12,
   "metadata": {},
   "outputs": [
    {
     "data": {
      "text/plain": [
       "SyncCursorPage[ThreadMessage](data=[ThreadMessage(id='msg_0MNiKrSFPfVqTFwXIVwwHnwR', assistant_id='asst_YkfDnV9tt89Kk0rFKbBmVCcv', content=[MessageContentText(text=Text(annotations=[], value='In mathematics, a ring is an algebraic structure that generalizes fields. It is a set equipped with two binary operations, addition and multiplication, satisfying properties analogous to those of addition and multiplication of integers. The elements of a ring can be numbers such as integers or complex numbers, but they can also be non-numerical objects such as polynomials, square matrices, functions, and power series. A ring follows a set of axioms called the ring axioms, which elaborate on the properties of addition and multiplication.\\n\\nYou can find more information about rings in mathematics on the following Wikipedia page: [Ring (mathematics)](https://en.wikipedia.org/wiki/Ring_(mathematics))\\n\\nIs there anything else you would like to know?'), type='text')], created_at=1699930798, file_ids=[], metadata={}, object='thread.message', role='assistant', run_id='run_0nGLjRYQDXM4d6IbFY5aSd8p', thread_id='thread_yLrOYHA9OGpGETWus4kpWxnt'), ThreadMessage(id='msg_wn5sZU2b2QDC2rZ1PtrxODJQ', assistant_id=None, content=[MessageContentText(text=Text(annotations=[], value='What is Ring in mathematics? Please query the related documents to answer this.'), type='text')], created_at=1699930783, file_ids=[], metadata={}, object='thread.message', role='user', run_id=None, thread_id='thread_yLrOYHA9OGpGETWus4kpWxnt')], object='list', first_id='msg_0MNiKrSFPfVqTFwXIVwwHnwR', last_id='msg_wn5sZU2b2QDC2rZ1PtrxODJQ', has_more=False)"
      ]
     },
     "execution_count": 12,
     "metadata": {},
     "output_type": "execute_result"
    }
   ],
   "source": [
    "messages = client.beta.threads.messages.list(thread_id=thread.id)\n",
    "messages"
   ]
  },
  {
   "cell_type": "markdown",
   "metadata": {},
   "source": [
    "## Delete the assistant\n",
    "\n",
    "You can also just delete this thread if you want to re-use this assistant. Just remember to save its `assistant_id`"
   ]
  },
  {
   "cell_type": "code",
   "execution_count": 13,
   "metadata": {},
   "outputs": [
    {
     "data": {
      "text/plain": [
       "AssistantDeleted(id='asst_YkfDnV9tt89Kk0rFKbBmVCcv', deleted=True, object='assistant.deleted')"
      ]
     },
     "execution_count": 13,
     "metadata": {},
     "output_type": "execute_result"
    }
   ],
   "source": [
    "client.beta.assistants.delete(assistant_id=assistant.id)"
   ]
  }
 ],
 "metadata": {
  "kernelspec": {
   "display_name": "base",
   "language": "python",
   "name": "python3"
  },
  "language_info": {
   "codemirror_mode": {
    "name": "ipython",
    "version": 3
   },
   "file_extension": ".py",
   "mimetype": "text/x-python",
   "name": "python",
   "nbconvert_exporter": "python",
   "pygments_lexer": "ipython3",
   "version": "3.8.8"
  },
  "orig_nbformat": 4
 },
 "nbformat": 4,
 "nbformat_minor": 2
}
